{
 "cells": [
  {
   "cell_type": "markdown",
   "metadata": {},
   "source": [
    "# IBM Data Science Capstone Project (Blogpost Format)\n",
    "\n",
    "\n",
    "### 1. Clearly define a problem or an idea of your choice, where you would need to leverage the Foursquare location data to solve or execute.\n",
    "We take one of the suggested issues and we are going to help a GTA entrepreneur in planning to open a new restaurant in Toronto. He approaced us to chose the right location. To help him with his mission, we will be providing data about the income and population of each neighborhood as well as any potential competitors that might be already present in the circumdating neighborhoods.\n",
    "\n",
    "\n",
    "### 2. Data Wrangling and Preparation: describe the data that you will be using to solve the problem or execute your idea. Remember that you will need to use the Foursquare location data to solve the problem or execute your idea. You can absolutely use other datasets in combination with the Foursquare location data.\n",
    "Since I currently live in Toronto, CA, I will be focusing on the GTA to provide the stakeholders the necessary information and I'll be combining Toronto's 2016 Census that contains Population, Average income per Neighborhood with Toronot's Neighborhoods shapefile and Foursquare API to collect competitors on the same neighborhoods.\n",
    "\n",
    "Census data: https://www.toronto.ca/city-government/data-research-maps/open-data/open-data-catalogue/#8c732154-5012-9afe-d0cd-ba3ffc813d5a\n",
    "\n",
    "Toronto Neighborhoods': https://www.toronto.ca/city-government/data-research-maps/open-data/open-data-catalogue/#a45bd45a-ede8-730e-1abc-93105b2c439f\n",
    "\n",
    "\n",
    "### 3. Methodology section\n",
    "We are going to use descriptive statistics and k-means clustering to target neighborhoods with specific characteristics. For Data Vizualization, we will leverage different maps that could help a new investor to decide the best neighborhood to open a restaurant in Toronto based on it's income, population and available competitors.\n",
    "\n",
    "\n",
    "### 4. Results section\n",
    "Data revelas that neighborhoods with high population density don't seem to be correlated with the number of restaurants in the vicinity. A combination of k-means clustering and data viz reveals that the majority of the restaurants grouped on main streets and on the south of the city, although some of the welthiest neighborhoods are up to the north. Additionally, \n",
    "\n",
    "### 5. Discussion section\n",
    "Observations and recommendations will be made along the project as we manipulate the data\n",
    "\n",
    "\n",
    "### 6. Conclusion section\n",
    "The data preparation, EDA and Vizualization techniques used resulted useful in profiling neighborhoods and its intrinsic characteristics. As it stands, our project could be strenghthen to cover all other variables not taken into consideration such as public infrastucture, public transportation methods available, etc. It will be useful to get a better understanding of the demographics but should be also used in conjunction with other information."
   ]
  },
  {
   "cell_type": "code",
   "execution_count": null,
   "metadata": {},
   "outputs": [],
   "source": []
  }
 ],
 "metadata": {
  "kernelspec": {
   "display_name": "Python 3",
   "language": "python",
   "name": "python3"
  },
  "language_info": {
   "codemirror_mode": {
    "name": "ipython",
    "version": 3
   },
   "file_extension": ".py",
   "mimetype": "text/x-python",
   "name": "python",
   "nbconvert_exporter": "python",
   "pygments_lexer": "ipython3",
   "version": "3.7.6"
  }
 },
 "nbformat": 4,
 "nbformat_minor": 4
}
